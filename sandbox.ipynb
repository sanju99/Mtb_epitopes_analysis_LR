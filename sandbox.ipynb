{
 "cells": [
  {
   "cell_type": "code",
   "execution_count": 1,
   "id": "14b1d374-6ae1-46a7-a348-3ae4416328df",
   "metadata": {},
   "outputs": [],
   "source": [
    "import numpy as np\n",
    "import pandas as pd\n",
    "\n",
    "import seaborn as sns\n",
    "import matplotlib.pyplot as plt\n",
    "import glob, os, re, pycountry, subprocess\n",
    "\n",
    "H37Rv_coords_to_gene = pd.read_csv(\"./references/ref_genome/H37Rv_coords_to_gene.csv\")\n",
    "H37Rv_coords_to_gene_dict = dict(zip(H37Rv_coords_to_gene['pos'], H37Rv_coords_to_gene['region']))\n",
    "\n",
    "H37Rv_genes = pd.read_csv(\"./references/ref_genome/mycobrowser_h37rv_genes_v4.csv\")\n",
    "H37Rv_full = pd.read_csv(\"./references/ref_genome/mycobrowser_h37rv_v4.csv\")\n",
    "\n",
    "epitopes_table = pd.read_csv(\"./references/epitopes_table.csv\")"
   ]
  },
  {
   "cell_type": "code",
   "execution_count": 2,
   "id": "8acb7850-d9d8-4b5f-8f82-a237668b1bc6",
   "metadata": {},
   "outputs": [
    {
     "name": "stdout",
     "output_type": "stream",
     "text": [
      "446\n",
      "6\n",
      "55 PE/PPE genes have epitopes\n"
     ]
    }
   ],
   "source": [
    "print(epitopes_table.locus_id.nunique())\n",
    "\n",
    "epitopes_table = epitopes_table.merge(H37Rv_genes[['H37rv_GeneID', 'Symbol']].rename(columns={'H37rv_GeneID': 'locus_id', 'Symbol': 'Gene'}), how='left')\n",
    "print(sum(pd.isnull(epitopes_table['Gene'])))\n",
    "\n",
    "# these have a backslash in them because they span 2 genes, so fill with the Rv names\n",
    "epitopes_table['Gene'] = epitopes_table['Gene'].fillna(epitopes_table['locus_id'])\n",
    "\n",
    "df_PE_PPE = epitopes_table.query(\"Gene.str.contains('|'.join(['PE', 'PPE']), case=True)\")\n",
    "print(f\"{df_PE_PPE.Gene.nunique()} PE/PPE genes have epitopes\")"
   ]
  },
  {
   "cell_type": "markdown",
   "id": "bda64d06-fc31-4eef-8435-22abb86a2ac8",
   "metadata": {},
   "source": [
    "Filter to search for all long-read sequences\n",
    "\n",
    "(\"Mycobacterium tuberculosis\"[orgn:__txid1773] OR \"Mycobacterium tuberculosis complex\"[orgn:__txid77643]) AND (\"Oxford Nanopore\" OR \"PacBio SMRT\")"
   ]
  },
  {
   "cell_type": "markdown",
   "id": "381c5f63",
   "metadata": {},
   "source": [
    "```bash\n",
    "conda create -n snakemake -c conda-forge -c bioconda snakemake=7.32.4 python=3.10.14 snakemake-interface-common=1.17.3\n",
    "\n",
    "conda config --set channel_priority strict\n",
    "```"
   ]
  },
  {
   "cell_type": "markdown",
   "id": "2cabb2ab-f4e9-4484-9c7c-aecb4ef8aa2a",
   "metadata": {},
   "source": [
    "```\n",
    "# check that the word \"CCS\" (upper or lower case) is found in the header of the FASTQ reads.\n",
    "```"
   ]
  },
  {
   "cell_type": "code",
   "execution_count": 66,
   "id": "49ceb471-c287-41fd-882e-633595735705",
   "metadata": {},
   "outputs": [
    {
     "data": {
      "text/plain": [
       "['SAMN38195838.SV.tsv',\n",
       " 'SAMN38195838.variants.tsv',\n",
       " 'SAMN38195838.full.vcf.gz',\n",
       " 'SAMN38195838.variants.vcf',\n",
       " 'SAMN38195838.SV.vcf']"
      ]
     },
     "execution_count": 66,
     "metadata": {},
     "output_type": "execute_result"
    }
   ],
   "source": [
    "os.listdir(\"./FASTQ/SAMN38195838/variant_calling\")"
   ]
  },
  {
   "cell_type": "code",
   "execution_count": 76,
   "id": "c92d62bc-fe33-4e9e-92a4-d7e33038f679",
   "metadata": {},
   "outputs": [],
   "source": [
    "df_variants = pd.read_csv(f\"./FASTQ/SAMN38195838/variant_calling/SAMN38195838.variants.tsv\", sep='\\t')\n",
    "df_SV = pd.read_csv(f\"./FASTQ/SAMN38195838/variant_calling/SAMN38195838.SV.tsv\", sep='\\t')\n",
    "\n",
    "df_variants['REGION'] = df_variants['POS'].map(H37Rv_coords_to_gene_dict)\n",
    "df_SV['REGION'] = df_SV['POS'].map(H37Rv_coords_to_gene_dict)"
   ]
  },
  {
   "cell_type": "code",
   "execution_count": null,
   "id": "89ba9e56-b339-4b40-a43d-9eb21f67c0c1",
   "metadata": {},
   "outputs": [],
   "source": [
    "snakemake --snakefile snakefile --use-conda --conda-frontend conda --rerun-incomplete --keep-going --configfile config.yaml --conda-prefix /Users/skulkarni/Desktop/Research/LR_data/.snakemake/conda --cores 8 --unlock\n",
    "\n",
    "snakemake --snakefile snakefile --use-conda --conda-frontend conda --rerun-incomplete --keep-going --configfile config.yaml --conda-prefix /Users/skulkarni/Desktop/Research/LR_data/.snakemake/conda --cores 8"
   ]
  },
  {
   "cell_type": "code",
   "execution_count": 3,
   "id": "3329f76f-9ecb-4973-bd83-7360fa896afd",
   "metadata": {},
   "outputs": [],
   "source": [
    "pacbio_samples = pd.read_csv(\"pacbio_samples.tsv\", header=None, sep='\\t')"
   ]
  },
  {
   "cell_type": "code",
   "execution_count": 7,
   "id": "346719c0-960c-4bd8-98a6-313aa4bd8670",
   "metadata": {},
   "outputs": [],
   "source": [
    "pacbio_samples.iloc[[-1], :].to_csv(\"pacbio_samples.tsv\", header=None, sep='\\t', index=False)"
   ]
  },
  {
   "cell_type": "code",
   "execution_count": null,
   "id": "e8ce9b6d-7363-4c9f-9829-bcfc98d66f24",
   "metadata": {},
   "outputs": [],
   "source": [
    "fastplong -i {input.fastq} -o {output.fastq_trimmed} -h {output.fastplong_html} -j {output.fastplong_json} --length_required {params.min_read_length} --thread 8"
   ]
  },
  {
   "cell_type": "markdown",
   "id": "c2466345-646e-473e-8595-ddc74867b995",
   "metadata": {},
   "source": [
    "# Gathering Long-Read Sequencing"
   ]
  },
  {
   "cell_type": "code",
   "execution_count": 3,
   "id": "add42c40-c9c3-4cff-b03f-68573615a14c",
   "metadata": {},
   "outputs": [
    {
     "name": "stdout",
     "output_type": "stream",
     "text": [
      "1322 1308\n",
      "1287 1285\n"
     ]
    }
   ],
   "source": [
    "LR_sequencing = pd.read_csv(\"LR_sequencing_SRA.csv\").query(\"LibraryStrategy=='WGS' & Platform != 'ILLUMINA' & LibrarySource == 'GENOMIC'\")\n",
    "print(len(LR_sequencing), LR_sequencing.BioSample.nunique())\n",
    "\n",
    "# there are some samples that were sequenced with both Oxford Nanopore and PacBio, so preferentially keep the PacBio one because it is more accurate\n",
    "samples_with_nanopore_and_pacbio = LR_sequencing.groupby('BioSample')[['Platform']].nunique().query(\"Platform > 1\").index.values\n",
    "\n",
    "keep_pacbio_runs = LR_sequencing.query(\"BioSample in @samples_with_nanopore_and_pacbio\").sort_values(['BioSample', 'Platform'], ascending=[True, False]).drop_duplicates('BioSample', keep='first')\n",
    "\n",
    "LR_sequencing = pd.concat([LR_sequencing.query(\"BioSample not in @samples_with_nanopore_and_pacbio\"), keep_pacbio_runs])\n",
    "\n",
    "# sample SAMN40453083 has WGS with both simplex and duplex basecalling.\n",
    "# duplex basecalling is more accurate because the complement (just created by PCR) strand is read immediately after the template strand,\n",
    "# and the base calls for both strands are harmonized into a consensus, boosting accuracy.\n",
    "keep_duplex_samples = LR_sequencing.query(\"BioSample=='SAMN40453083'\").query(\"LibraryName.str.contains('duplex')\")\n",
    "LR_sequencing = pd.concat([LR_sequencing.query(\"BioSample!='SAMN40453083'\"), keep_duplex_samples])\n",
    "\n",
    "# there are some sequencing duplicates -- different Run ids or even BioSamples, but same RunHash, so drop those duplicates\n",
    "LR_sequencing = LR_sequencing.drop_duplicates(subset='RunHash', keep='first')\n",
    "\n",
    "# some H37Rv sequences deposited\n",
    "LR_sequencing = LR_sequencing.loc[~((~pd.isnull(LR_sequencing['SampleName'])) & (LR_sequencing['SampleName'].str.contains('H37Rv')))]\n",
    "LR_sequencing = LR_sequencing.loc[~((~pd.isnull(LR_sequencing['LibraryName'])) & (LR_sequencing['LibraryName'].str.contains('H37Rv')))]\n",
    "\n",
    "# for this sample, there are 2 submitted reads. One has the CCS suffix, the other does not. So keep the CCS reads, which have been collapsed and processed from the raw reads \n",
    "# (the other file) to the CCS reads. The raw file is much bigger. BioSample = SAMN38195838, raw SRR ID = SRR26783283\n",
    "# Couldn't find the CSS suffix in the downloaded data, but saw it in the SRA GUI\n",
    "LR_sequencing = LR_sequencing.query(\"Run != 'SRR26783283'\").reset_index(drop=True)\n",
    "\n",
    "# remove PacBio RS sequencing because it's an older, more error-prone version?\n",
    "\n",
    "# the other 2 ONT cases with multiple runs seem fine. Merge BAMs for the multiple sequencing runs\n",
    "print(len(LR_sequencing), LR_sequencing.BioSample.nunique())"
   ]
  },
  {
   "cell_type": "code",
   "execution_count": 4,
   "id": "6ae66344-0942-4b5a-851b-7567325f8982",
   "metadata": {},
   "outputs": [
    {
     "data": {
      "text/html": [
       "<div>\n",
       "<style scoped>\n",
       "    .dataframe tbody tr th:only-of-type {\n",
       "        vertical-align: middle;\n",
       "    }\n",
       "\n",
       "    .dataframe tbody tr th {\n",
       "        vertical-align: top;\n",
       "    }\n",
       "\n",
       "    .dataframe thead th {\n",
       "        text-align: right;\n",
       "    }\n",
       "</style>\n",
       "<table border=\"1\" class=\"dataframe\">\n",
       "  <thead>\n",
       "    <tr style=\"text-align: right;\">\n",
       "      <th></th>\n",
       "      <th>BioSample</th>\n",
       "      <th>Run</th>\n",
       "      <th>CenterName</th>\n",
       "      <th>Platform</th>\n",
       "    </tr>\n",
       "  </thead>\n",
       "  <tbody>\n",
       "    <tr>\n",
       "      <th>840</th>\n",
       "      <td>SAMEA104027311</td>\n",
       "      <td>ERR2724039</td>\n",
       "      <td>STATENS SERUM INSTITUT</td>\n",
       "      <td>OXFORD_NANOPORE</td>\n",
       "    </tr>\n",
       "    <tr>\n",
       "      <th>841</th>\n",
       "      <td>SAMEA104027311</td>\n",
       "      <td>ERR2724040</td>\n",
       "      <td>STATENS SERUM INSTITUT</td>\n",
       "      <td>OXFORD_NANOPORE</td>\n",
       "    </tr>\n",
       "    <tr>\n",
       "      <th>1285</th>\n",
       "      <td>SAMN40453083</td>\n",
       "      <td>SRR28370672</td>\n",
       "      <td>THE UNIVERSITY OF MELBOURNE</td>\n",
       "      <td>OXFORD_NANOPORE</td>\n",
       "    </tr>\n",
       "    <tr>\n",
       "      <th>1286</th>\n",
       "      <td>SAMN40453083</td>\n",
       "      <td>SRR28370678</td>\n",
       "      <td>THE UNIVERSITY OF MELBOURNE</td>\n",
       "      <td>OXFORD_NANOPORE</td>\n",
       "    </tr>\n",
       "  </tbody>\n",
       "</table>\n",
       "</div>"
      ],
      "text/plain": [
       "           BioSample          Run                   CenterName  \\\n",
       "840   SAMEA104027311   ERR2724039       STATENS SERUM INSTITUT   \n",
       "841   SAMEA104027311   ERR2724040       STATENS SERUM INSTITUT   \n",
       "1285    SAMN40453083  SRR28370672  THE UNIVERSITY OF MELBOURNE   \n",
       "1286    SAMN40453083  SRR28370678  THE UNIVERSITY OF MELBOURNE   \n",
       "\n",
       "             Platform  \n",
       "840   OXFORD_NANOPORE  \n",
       "841   OXFORD_NANOPORE  \n",
       "1285  OXFORD_NANOPORE  \n",
       "1286  OXFORD_NANOPORE  "
      ]
     },
     "execution_count": 4,
     "metadata": {},
     "output_type": "execute_result"
    }
   ],
   "source": [
    "LR_sequencing.iloc[LR_sequencing.index.values[LR_sequencing.duplicated(subset='BioSample', keep=False)]][['BioSample', 'Run', 'CenterName', 'Platform']]"
   ]
  },
  {
   "cell_type": "code",
   "execution_count": 5,
   "id": "9616e9c0-cafd-46aa-b5be-7014b7c86076",
   "metadata": {},
   "outputs": [
    {
     "data": {
      "text/html": [
       "<div>\n",
       "<style scoped>\n",
       "    .dataframe tbody tr th:only-of-type {\n",
       "        vertical-align: middle;\n",
       "    }\n",
       "\n",
       "    .dataframe tbody tr th {\n",
       "        vertical-align: top;\n",
       "    }\n",
       "\n",
       "    .dataframe thead th {\n",
       "        text-align: right;\n",
       "    }\n",
       "</style>\n",
       "<table border=\"1\" class=\"dataframe\">\n",
       "  <thead>\n",
       "    <tr style=\"text-align: right;\">\n",
       "      <th></th>\n",
       "      <th></th>\n",
       "      <th>Run</th>\n",
       "    </tr>\n",
       "    <tr>\n",
       "      <th>BioSample</th>\n",
       "      <th>Platform</th>\n",
       "      <th></th>\n",
       "    </tr>\n",
       "  </thead>\n",
       "  <tbody>\n",
       "    <tr>\n",
       "      <th>SAMEA104027311</th>\n",
       "      <th>OXFORD_NANOPORE</th>\n",
       "      <td>2</td>\n",
       "    </tr>\n",
       "    <tr>\n",
       "      <th>SAMN40453083</th>\n",
       "      <th>OXFORD_NANOPORE</th>\n",
       "      <td>2</td>\n",
       "    </tr>\n",
       "  </tbody>\n",
       "</table>\n",
       "</div>"
      ],
      "text/plain": [
       "                                Run\n",
       "BioSample      Platform            \n",
       "SAMEA104027311 OXFORD_NANOPORE    2\n",
       "SAMN40453083   OXFORD_NANOPORE    2"
      ]
     },
     "execution_count": 5,
     "metadata": {},
     "output_type": "execute_result"
    }
   ],
   "source": [
    "LR_sequencing.groupby([\"BioSample\", \"Platform\"])[['Run']].nunique().query(\"Run > 1\")"
   ]
  },
  {
   "cell_type": "code",
   "execution_count": 20,
   "id": "80338a96-8082-4e63-a1e3-e84f20f03a5c",
   "metadata": {},
   "outputs": [],
   "source": [
    "# all_data = []\n",
    "\n",
    "# for i, sample in enumerate(LR_sequencing.query(\"Platform=='OXFORD_NANOPORE'\")['BioSample'].unique()):\n",
    "\n",
    "#     try:\n",
    "#         res = subprocess.Popen(f\"esearch -db sra -query {sample} | efetch -format runinfo\", shell=True, encoding='utf8', stdout=subprocess.PIPE)\n",
    "        \n",
    "#         res = res.communicate()[0]\n",
    "    \n",
    "#         with open(\"./esearch_results.temp\", 'w+') as file:\n",
    "#             file.write(res)\n",
    "    \n",
    "#         res_df = pd.read_csv(\"./esearch_results.temp\")\n",
    "#         res_df['Query'] = sample\n",
    "#     except:\n",
    "#         all_data.append(pd.DataFrame({\"Query\": sample}, index=[i]))\n",
    "        \n",
    "#     all_data.append(res_df)\n",
    "\n",
    "#     if i % 100 == 0:\n",
    "#         print(i)\n",
    "\n",
    "# all_data = pd.concat(all_data)"
   ]
  },
  {
   "cell_type": "code",
   "execution_count": 6,
   "id": "638a25f4-efee-4c9b-93f5-02897acb7d9b",
   "metadata": {},
   "outputs": [],
   "source": [
    "bioproject_metadata_search = pd.read_csv(\"bioproject_metadata_search.csv\")\n",
    "ONT_metadata = pd.read_csv(\"ONT_metadata.csv\")"
   ]
  },
  {
   "cell_type": "code",
   "execution_count": 7,
   "id": "f68fddab-f387-4056-b510-85d585dd937f",
   "metadata": {},
   "outputs": [
    {
     "data": {
      "text/plain": [
       "(1165, 297, 298)"
      ]
     },
     "execution_count": 7,
     "metadata": {},
     "output_type": "execute_result"
    }
   ],
   "source": [
    "matched_ONT_Illumina_sequencing = ONT_metadata.query(\"Platform=='ILLUMINA' & LibrarySource == 'GENOMIC' & LibraryStrategy=='WGS'\").reset_index(drop=True)\n",
    "\n",
    "ONT_metadata.Query.nunique(), matched_ONT_Illumina_sequencing.BioSample.nunique(), len(matched_ONT_Illumina_sequencing)"
   ]
  },
  {
   "cell_type": "code",
   "execution_count": 8,
   "id": "dd4bc0d0-1750-4a17-b07a-852569b1e33d",
   "metadata": {},
   "outputs": [
    {
     "data": {
      "text/html": [
       "<div>\n",
       "<style scoped>\n",
       "    .dataframe tbody tr th:only-of-type {\n",
       "        vertical-align: middle;\n",
       "    }\n",
       "\n",
       "    .dataframe tbody tr th {\n",
       "        vertical-align: top;\n",
       "    }\n",
       "\n",
       "    .dataframe thead th {\n",
       "        text-align: right;\n",
       "    }\n",
       "</style>\n",
       "<table border=\"1\" class=\"dataframe\">\n",
       "  <thead>\n",
       "    <tr style=\"text-align: right;\">\n",
       "      <th></th>\n",
       "      <th>BioSample</th>\n",
       "      <th>Run</th>\n",
       "      <th>LibraryName</th>\n",
       "      <th>LibraryStrategy</th>\n",
       "      <th>LibrarySelection</th>\n",
       "      <th>LibrarySource</th>\n",
       "      <th>LibraryLayout</th>\n",
       "    </tr>\n",
       "  </thead>\n",
       "  <tbody>\n",
       "    <tr>\n",
       "      <th>155</th>\n",
       "      <td>SAMEA104027311</td>\n",
       "      <td>ERR1949967</td>\n",
       "      <td>unspecified</td>\n",
       "      <td>WGS</td>\n",
       "      <td>RANDOM</td>\n",
       "      <td>GENOMIC</td>\n",
       "      <td>PAIRED</td>\n",
       "    </tr>\n",
       "    <tr>\n",
       "      <th>156</th>\n",
       "      <td>SAMEA104027311</td>\n",
       "      <td>ERR2724042</td>\n",
       "      <td>171219_PP1</td>\n",
       "      <td>WGS</td>\n",
       "      <td>RANDOM</td>\n",
       "      <td>GENOMIC</td>\n",
       "      <td>PAIRED</td>\n",
       "    </tr>\n",
       "  </tbody>\n",
       "</table>\n",
       "</div>"
      ],
      "text/plain": [
       "          BioSample         Run  LibraryName LibraryStrategy LibrarySelection  \\\n",
       "155  SAMEA104027311  ERR1949967  unspecified             WGS           RANDOM   \n",
       "156  SAMEA104027311  ERR2724042   171219_PP1             WGS           RANDOM   \n",
       "\n",
       "    LibrarySource LibraryLayout  \n",
       "155       GENOMIC        PAIRED  \n",
       "156       GENOMIC        PAIRED  "
      ]
     },
     "execution_count": 8,
     "metadata": {},
     "output_type": "execute_result"
    }
   ],
   "source": [
    "matched_ONT_Illumina_sequencing.iloc[matched_ONT_Illumina_sequencing.index.values[matched_ONT_Illumina_sequencing.duplicated('BioSample', keep=False)]][['BioSample', 'Run', 'LibraryName', 'LibraryStrategy', 'LibrarySelection', 'LibrarySource',\n",
    "       'LibraryLayout']]"
   ]
  },
  {
   "cell_type": "code",
   "execution_count": 9,
   "id": "c29a72ef-d057-4258-ad82-77b11cb13d98",
   "metadata": {},
   "outputs": [
    {
     "data": {
      "text/plain": [
       "19"
      ]
     },
     "execution_count": 9,
     "metadata": {},
     "output_type": "execute_result"
    }
   ],
   "source": [
    "search_bioprojects = ONT_metadata.query(\"BioSample not in @matched_ONT_Illumina_sequencing.BioSample\").BioProject.unique()\n",
    "len(search_bioprojects)"
   ]
  },
  {
   "cell_type": "code",
   "execution_count": 10,
   "id": "e65c4a26-09ce-4946-b5d4-0fa66108443c",
   "metadata": {},
   "outputs": [
    {
     "data": {
      "text/plain": [
       "915"
      ]
     },
     "execution_count": 10,
     "metadata": {},
     "output_type": "execute_result"
    }
   ],
   "source": [
    "not_found_biosamples = ONT_metadata.query(\"BioSample not in @matched_ONT_Illumina_sequencing.BioSample\").BioSample.values\n",
    "len(not_found_biosamples)"
   ]
  },
  {
   "cell_type": "code",
   "execution_count": 11,
   "id": "2d5e23c4-33da-4f8f-94a0-ef9a7d59f6e0",
   "metadata": {},
   "outputs": [],
   "source": [
    "from difflib import get_close_matches\n",
    "\n",
    "def find_close_matches(df1, df2, column_name, cutoff=0.6):\n",
    "    \"\"\"\n",
    "    Finds close matches between two columns (with the same name) in two DataFrames.\n",
    "    \n",
    "    Args:\n",
    "        df1 (pd.DataFrame): First DataFrame.\n",
    "        df2 (pd.DataFrame): Second DataFrame.\n",
    "        column_name (str): Name of the column to match in both DataFrames.\n",
    "        cutoff (float): Minimum similarity ratio (0 to 1) to consider as a match. Default is 0.6.\n",
    "        \n",
    "    Returns:\n",
    "        pd.DataFrame: A DataFrame containing rows from both DataFrames and their closest matches.\n",
    "    \"\"\"\n",
    "    matches = []\n",
    "\n",
    "    for value in df1[column_name].dropna().unique():\n",
    "        close_match = get_close_matches(value, df2[column_name].dropna().unique(), n=1, cutoff=cutoff)\n",
    "        if close_match:\n",
    "            matches.append({\n",
    "                f'{column_name}_df1': value,\n",
    "                f'{column_name}_df2': close_match[0]\n",
    "            })\n",
    "\n",
    "    return pd.DataFrame(matches)"
   ]
  },
  {
   "cell_type": "code",
   "execution_count": 12,
   "id": "c50f8e4f-c813-4984-bb91-99e7b43cfa12",
   "metadata": {},
   "outputs": [
    {
     "data": {
      "text/plain": [
       "5"
      ]
     },
     "execution_count": 12,
     "metadata": {},
     "output_type": "execute_result"
    }
   ],
   "source": [
    "df_LibraryName_matches = []\n",
    "\n",
    "for bioproject in search_bioprojects:\n",
    "\n",
    "    result = find_close_matches(LR_sequencing.query(\"BioSample not in @matched_ONT_Illumina_sequencing.BioSample & Platform == 'OXFORD_NANOPORE' & BioProject == @bioproject\"), \n",
    "                                bioproject_metadata_search.query(\"BioProject==@bioproject & Platform=='ILLUMINA' & BioProject == @bioproject\"), \n",
    "                                'LibraryName', \n",
    "                                cutoff=0.8\n",
    "                               )\n",
    "\n",
    "    if len(result) > 0:\n",
    "        df_LibraryName_matches.append(result)\n",
    "\n",
    "len(df_LibraryName_matches)"
   ]
  },
  {
   "cell_type": "code",
   "execution_count": 13,
   "id": "5042783b-f74e-46e3-9a19-00492cba21b7",
   "metadata": {},
   "outputs": [],
   "source": [
    "df_LibraryName_matches_keep = []\n",
    "\n",
    "for i, df_single_group in enumerate(df_LibraryName_matches):\n",
    "\n",
    "    if i != 1:\n",
    "        df_LibraryName_matches_keep.append(df_single_group.query(\"LibraryName_df1 == LibraryName_df2\"))\n",
    "    else:\n",
    "        df_LibraryName_matches_keep.append(df_single_group)\n",
    "\n",
    "df_LibraryName_matches_keep = pd.concat(df_LibraryName_matches_keep)\n",
    "df_LibraryName_matches_keep.columns = ['Sample1', 'Sample2']"
   ]
  },
  {
   "cell_type": "code",
   "execution_count": 14,
   "id": "8ea132df-9dba-4d7a-aeb7-a89c2241c8c7",
   "metadata": {},
   "outputs": [
    {
     "data": {
      "text/plain": [
       "7"
      ]
     },
     "execution_count": 14,
     "metadata": {},
     "output_type": "execute_result"
    }
   ],
   "source": [
    "df_SampleName_matches = []\n",
    "\n",
    "for bioproject in search_bioprojects:\n",
    "\n",
    "    result = find_close_matches(LR_sequencing.query(\"BioSample not in @matched_ONT_Illumina_sequencing.BioSample & Platform == 'OXFORD_NANOPORE' & BioProject == @bioproject\"), \n",
    "                                bioproject_metadata_search.query(\"BioProject==@bioproject & Platform=='ILLUMINA' & BioProject == @bioproject\"), \n",
    "                                'SampleName', \n",
    "                                cutoff=0.8\n",
    "                               )\n",
    "\n",
    "    if len(result) > 0:\n",
    "        df_SampleName_matches.append(result)\n",
    "\n",
    "len(df_SampleName_matches)"
   ]
  },
  {
   "cell_type": "code",
   "execution_count": 15,
   "id": "90ad6b63-e754-4d55-b1c8-4ab6e1299a54",
   "metadata": {},
   "outputs": [],
   "source": [
    "df_SampleName_matches_keep = []\n",
    "\n",
    "for i, df_single_group in enumerate(df_SampleName_matches):\n",
    "\n",
    "    if i not in [0, 4]:\n",
    "        df_SampleName_matches_keep.append(df_single_group.query(\"SampleName_df1 == SampleName_df2\"))\n",
    "    else:\n",
    "        df_SampleName_matches_keep.append(df_single_group)\n",
    "\n",
    "df_SampleName_matches_keep = pd.concat(df_SampleName_matches_keep)\n",
    "df_SampleName_matches_keep.columns = ['Sample1', 'Sample2']"
   ]
  },
  {
   "cell_type": "code",
   "execution_count": 16,
   "id": "a692edfb-bc91-4c87-bf81-7953ffea3cf6",
   "metadata": {},
   "outputs": [
    {
     "data": {
      "text/html": [
       "<div>\n",
       "<style scoped>\n",
       "    .dataframe tbody tr th:only-of-type {\n",
       "        vertical-align: middle;\n",
       "    }\n",
       "\n",
       "    .dataframe tbody tr th {\n",
       "        vertical-align: top;\n",
       "    }\n",
       "\n",
       "    .dataframe thead th {\n",
       "        text-align: right;\n",
       "    }\n",
       "</style>\n",
       "<table border=\"1\" class=\"dataframe\">\n",
       "  <thead>\n",
       "    <tr style=\"text-align: right;\">\n",
       "      <th></th>\n",
       "      <th>ONT</th>\n",
       "      <th>ILLUMINA</th>\n",
       "    </tr>\n",
       "  </thead>\n",
       "  <tbody>\n",
       "    <tr>\n",
       "      <th>0</th>\n",
       "      <td>ELE1N</td>\n",
       "      <td>ELE1I</td>\n",
       "    </tr>\n",
       "    <tr>\n",
       "      <th>1</th>\n",
       "      <td>ELE2N</td>\n",
       "      <td>ELE2I</td>\n",
       "    </tr>\n",
       "    <tr>\n",
       "      <th>2</th>\n",
       "      <td>HUM1N</td>\n",
       "      <td>HUM1I</td>\n",
       "    </tr>\n",
       "    <tr>\n",
       "      <th>0</th>\n",
       "      <td>MT20823_1</td>\n",
       "      <td>MT20823</td>\n",
       "    </tr>\n",
       "  </tbody>\n",
       "</table>\n",
       "</div>"
      ],
      "text/plain": [
       "         ONT ILLUMINA\n",
       "0      ELE1N    ELE1I\n",
       "1      ELE2N    ELE2I\n",
       "2      HUM1N    HUM1I\n",
       "0  MT20823_1  MT20823"
      ]
     },
     "execution_count": 16,
     "metadata": {},
     "output_type": "execute_result"
    }
   ],
   "source": [
    "df_keep_mapping = pd.concat([df_LibraryName_matches_keep, df_SampleName_matches_keep]).drop_duplicates()\n",
    "\n",
    "df_keep_mapping.columns = ['ONT', 'ILLUMINA']\n",
    "\n",
    "df_keep_mapping.query(\"ONT != ILLUMINA\")"
   ]
  },
  {
   "cell_type": "code",
   "execution_count": 72,
   "id": "020ab0dd-65da-4b76-a19c-1757463dbedb",
   "metadata": {},
   "outputs": [
    {
     "data": {
      "text/plain": [
       "353"
      ]
     },
     "execution_count": 72,
     "metadata": {},
     "output_type": "execute_result"
    }
   ],
   "source": [
    "new_matches_ILLUMINA = bioproject_metadata_search.merge(df_keep_mapping, left_on='LibraryName', right_on='ILLUMINA').query(\"Platform == 'ILLUMINA'\")[['BioSample', 'LibraryName', 'CenterName']].drop_duplicates()\n",
    "len(new_matches_ILLUMINA)\n",
    "\n",
    "new_matches_ONT = LR_sequencing.merge(df_keep_mapping, left_on='LibraryName', right_on='ONT')[['BioSample', 'LibraryName', 'CenterName']].drop_duplicates()\n",
    "len(new_matches_ONT)"
   ]
  },
  {
   "cell_type": "code",
   "execution_count": 77,
   "id": "c22cfdb8-8135-4268-abd8-fd6d786fa28d",
   "metadata": {},
   "outputs": [
    {
     "data": {
      "text/plain": [
       "350"
      ]
     },
     "execution_count": 77,
     "metadata": {},
     "output_type": "execute_result"
    }
   ],
   "source": [
    "new_matches_final = new_matches_ILLUMINA.rename(columns={'BioSample': 'ILLUMINA_BioSample'}).merge(new_matches_ONT.rename(columns={'BioSample': 'ONT_BioSample'}), on=['LibraryName', 'CenterName'])\n",
    "len(new_matches_final)"
   ]
  },
  {
   "cell_type": "code",
   "execution_count": 100,
   "id": "19bdb237-ffbc-4740-8fa1-4b4c1d5ad6b1",
   "metadata": {},
   "outputs": [
    {
     "name": "stderr",
     "output_type": "stream",
     "text": [
      "/var/folders/mm/bx_h3x157735lh27_3pyt4km0000gn/T/ipykernel_1383/444793396.py:2: SettingWithCopyWarning: \n",
      "A value is trying to be set on a copy of a slice from a DataFrame.\n",
      "Try using .loc[row_indexer,col_indexer] = value instead\n",
      "\n",
      "See the caveats in the documentation: https://pandas.pydata.org/pandas-docs/stable/user_guide/indexing.html#returning-a-view-versus-a-copy\n",
      "  diff_matches_ONT['LibraryName'] = diff_matches_ONT['LibraryName'].str.replace('N', '')\n",
      "/var/folders/mm/bx_h3x157735lh27_3pyt4km0000gn/T/ipykernel_1383/444793396.py:5: SettingWithCopyWarning: \n",
      "A value is trying to be set on a copy of a slice from a DataFrame.\n",
      "Try using .loc[row_indexer,col_indexer] = value instead\n",
      "\n",
      "See the caveats in the documentation: https://pandas.pydata.org/pandas-docs/stable/user_guide/indexing.html#returning-a-view-versus-a-copy\n",
      "  diff_matches_ILLUMINA['LibraryName'] = diff_matches_ILLUMINA['LibraryName'].str.replace('I', '')\n"
     ]
    }
   ],
   "source": [
    "diff_matches_ONT = new_matches_ONT.query(\"LibraryName not in @new_matches_ILLUMINA.LibraryName\")\n",
    "diff_matches_ONT['LibraryName'] = diff_matches_ONT['LibraryName'].str.replace('N', '')\n",
    "\n",
    "diff_matches_ILLUMINA = new_matches_ILLUMINA.query(\"LibraryName not in @new_matches_ONT.LibraryName\")\n",
    "diff_matches_ILLUMINA['LibraryName'] = diff_matches_ILLUMINA['LibraryName'].str.replace('I', '')\n",
    "\n",
    "diff_matches_final = diff_matches_ILLUMINA.rename(columns={'BioSample': 'ILLUMINA_BioSample'}).merge(diff_matches_ONT.rename(columns={'BioSample': 'ONT_BioSample'}), on=['LibraryName', 'CenterName'])\n",
    "\n",
    "new_matches_final = pd.concat([new_matches_final, diff_matches_final])"
   ]
  },
  {
   "cell_type": "code",
   "execution_count": 141,
   "id": "250863a2-025b-4b06-a3e4-10df34fbd783",
   "metadata": {},
   "outputs": [
    {
     "data": {
      "text/plain": [
       "(301, 297)"
      ]
     },
     "execution_count": 141,
     "metadata": {},
     "output_type": "execute_result"
    }
   ],
   "source": [
    "LR_sequencing['CenterName'] = LR_sequencing['CenterName'].replace('WADSWORTH CENTER - NYS DOH', 'WADSWORTH CENTER')\n",
    "matched_ONT_Illumina_sequencing['CenterName'] = matched_ONT_Illumina_sequencing['CenterName'].replace('WADSWORTH CENTER - NYS DOH', 'WADSWORTH CENTER')\n",
    "\n",
    "matched_ONT_Illumina_sequencing_intermediate = matched_ONT_Illumina_sequencing[['BioSample', 'Run', 'LibraryName', 'CenterName']].rename(columns={'Run': 'ILLUMINA_Run'}).merge(LR_sequencing.query(\"BioSample in @matched_ONT_Illumina_sequencing.BioSample\")[['BioSample', 'CenterName', 'Run']].rename(columns={'Run': 'ONT_Run'}), on=['BioSample', 'CenterName'])\n",
    "len(matched_ONT_Illumina_sequencing_intermediate), matched_ONT_Illumina_sequencing_intermediate.BioSample.nunique()\n",
    "\n",
    "\n",
    "\n"
   ]
  },
  {
   "cell_type": "code",
   "execution_count": 142,
   "id": "5e067685-f835-4b1a-8318-2f0098456f0f",
   "metadata": {},
   "outputs": [
    {
     "data": {
      "text/html": [
       "<div>\n",
       "<style scoped>\n",
       "    .dataframe tbody tr th:only-of-type {\n",
       "        vertical-align: middle;\n",
       "    }\n",
       "\n",
       "    .dataframe tbody tr th {\n",
       "        vertical-align: top;\n",
       "    }\n",
       "\n",
       "    .dataframe thead th {\n",
       "        text-align: right;\n",
       "    }\n",
       "</style>\n",
       "<table border=\"1\" class=\"dataframe\">\n",
       "  <thead>\n",
       "    <tr style=\"text-align: right;\">\n",
       "      <th></th>\n",
       "      <th>BioSample</th>\n",
       "      <th>LibraryName</th>\n",
       "      <th>CenterName</th>\n",
       "    </tr>\n",
       "  </thead>\n",
       "  <tbody>\n",
       "  </tbody>\n",
       "</table>\n",
       "</div>"
      ],
      "text/plain": [
       "Empty DataFrame\n",
       "Columns: [BioSample, LibraryName, CenterName]\n",
       "Index: []"
      ]
     },
     "execution_count": 142,
     "metadata": {},
     "output_type": "execute_result"
    }
   ],
   "source": [
    "matched_ONT_Illumina_sequencing.query(\"BioSample not in @matched_ONT_Illumina_sequencing_intermediate.BioSample\")[['BioSample', 'LibraryName', 'CenterName']].drop_duplicates()"
   ]
  },
  {
   "cell_type": "code",
   "execution_count": 144,
   "id": "29436055-5d66-48a4-94bb-86fa93776773",
   "metadata": {},
   "outputs": [
    {
     "data": {
      "text/html": [
       "<div>\n",
       "<style scoped>\n",
       "    .dataframe tbody tr th:only-of-type {\n",
       "        vertical-align: middle;\n",
       "    }\n",
       "\n",
       "    .dataframe tbody tr th {\n",
       "        vertical-align: top;\n",
       "    }\n",
       "\n",
       "    .dataframe thead th {\n",
       "        text-align: right;\n",
       "    }\n",
       "</style>\n",
       "<table border=\"1\" class=\"dataframe\">\n",
       "  <thead>\n",
       "    <tr style=\"text-align: right;\">\n",
       "      <th></th>\n",
       "      <th>BioSample</th>\n",
       "      <th>ILLUMINA_Run</th>\n",
       "      <th>LibraryName</th>\n",
       "      <th>CenterName</th>\n",
       "      <th>ONT_Run</th>\n",
       "    </tr>\n",
       "  </thead>\n",
       "  <tbody>\n",
       "    <tr>\n",
       "      <th>155</th>\n",
       "      <td>SAMEA104027311</td>\n",
       "      <td>ERR1949967</td>\n",
       "      <td>unspecified</td>\n",
       "      <td>STATENS SERUM INSTITUT</td>\n",
       "      <td>ERR2724039</td>\n",
       "    </tr>\n",
       "    <tr>\n",
       "      <th>156</th>\n",
       "      <td>SAMEA104027311</td>\n",
       "      <td>ERR1949967</td>\n",
       "      <td>unspecified</td>\n",
       "      <td>STATENS SERUM INSTITUT</td>\n",
       "      <td>ERR2724040</td>\n",
       "    </tr>\n",
       "    <tr>\n",
       "      <th>157</th>\n",
       "      <td>SAMEA104027311</td>\n",
       "      <td>ERR2724042</td>\n",
       "      <td>171219_PP1</td>\n",
       "      <td>STATENS SERUM INSTITUT</td>\n",
       "      <td>ERR2724039</td>\n",
       "    </tr>\n",
       "    <tr>\n",
       "      <th>158</th>\n",
       "      <td>SAMEA104027311</td>\n",
       "      <td>ERR2724042</td>\n",
       "      <td>171219_PP1</td>\n",
       "      <td>STATENS SERUM INSTITUT</td>\n",
       "      <td>ERR2724040</td>\n",
       "    </tr>\n",
       "    <tr>\n",
       "      <th>299</th>\n",
       "      <td>SAMN40453083</td>\n",
       "      <td>SRR28370698</td>\n",
       "      <td>AMtb_1__202402-illumina</td>\n",
       "      <td>THE UNIVERSITY OF MELBOURNE</td>\n",
       "      <td>SRR28370672</td>\n",
       "    </tr>\n",
       "    <tr>\n",
       "      <th>300</th>\n",
       "      <td>SAMN40453083</td>\n",
       "      <td>SRR28370698</td>\n",
       "      <td>AMtb_1__202402-illumina</td>\n",
       "      <td>THE UNIVERSITY OF MELBOURNE</td>\n",
       "      <td>SRR28370678</td>\n",
       "    </tr>\n",
       "  </tbody>\n",
       "</table>\n",
       "</div>"
      ],
      "text/plain": [
       "          BioSample ILLUMINA_Run              LibraryName  \\\n",
       "155  SAMEA104027311   ERR1949967              unspecified   \n",
       "156  SAMEA104027311   ERR1949967              unspecified   \n",
       "157  SAMEA104027311   ERR2724042               171219_PP1   \n",
       "158  SAMEA104027311   ERR2724042               171219_PP1   \n",
       "299    SAMN40453083  SRR28370698  AMtb_1__202402-illumina   \n",
       "300    SAMN40453083  SRR28370698  AMtb_1__202402-illumina   \n",
       "\n",
       "                      CenterName      ONT_Run  \n",
       "155       STATENS SERUM INSTITUT   ERR2724039  \n",
       "156       STATENS SERUM INSTITUT   ERR2724040  \n",
       "157       STATENS SERUM INSTITUT   ERR2724039  \n",
       "158       STATENS SERUM INSTITUT   ERR2724040  \n",
       "299  THE UNIVERSITY OF MELBOURNE  SRR28370672  \n",
       "300  THE UNIVERSITY OF MELBOURNE  SRR28370678  "
      ]
     },
     "execution_count": 144,
     "metadata": {},
     "output_type": "execute_result"
    }
   ],
   "source": [
    "matched_ONT_Illumina_sequencing_intermediate.iloc[matched_ONT_Illumina_sequencing_intermediate.index.values[matched_ONT_Illumina_sequencing_intermediate.duplicated(subset='BioSample', keep=False)]]\n",
    "\n"
   ]
  },
  {
   "cell_type": "code",
   "execution_count": 152,
   "id": "6c651a30-1c72-498a-aeea-d1b0df19b373",
   "metadata": {},
   "outputs": [
    {
     "data": {
      "text/plain": [
       "654"
      ]
     },
     "execution_count": 152,
     "metadata": {},
     "output_type": "execute_result"
    }
   ],
   "source": [
    "matched_ONT_Illumina_sequencing_final = pd.concat([new_matches_final, matched_ONT_Illumina_sequencing_intermediate])\n",
    "del matched_ONT_Illumina_sequencing_final['LibraryName']\n",
    "len(matched_ONT_Illumina_sequencing_final)"
   ]
  },
  {
   "cell_type": "code",
   "execution_count": 153,
   "id": "a112abd6-dd51-4e6c-bfcb-80bf21a9a814",
   "metadata": {},
   "outputs": [],
   "source": [
    "matched_ONT_Illumina_sequencing_final.to_csv(\"matched_ONT_Illumina_samples.csv\", index=False)"
   ]
  },
  {
   "cell_type": "code",
   "execution_count": null,
   "id": "7bd8e2bf-47b4-42ac-8de6-1bef2643571f",
   "metadata": {},
   "outputs": [],
   "source": []
  },
  {
   "cell_type": "code",
   "execution_count": null,
   "id": "6ec4407a-cb46-4f88-9d42-cf65ee6f0899",
   "metadata": {},
   "outputs": [],
   "source": []
  },
  {
   "cell_type": "code",
   "execution_count": 97,
   "id": "5e72dbaf-64f5-48f5-a350-38f1fc2354ca",
   "metadata": {},
   "outputs": [],
   "source": [
    "df_samples_to_run.query(\"Platform=='PACBIO_SMRT'\")[['BioSample', 'Run']].to_csv(\"pacbio_samples.tsv\", index=False, sep='\\t', header=None)\n",
    "df_samples_to_run.query(\"Platform=='OXFORD_NANOPORE'\")[['BioSample', 'Run']].to_csv(\"ont_samples.tsv\", index=False, sep='\\t', header=None)"
   ]
  },
  {
   "cell_type": "code",
   "execution_count": 44,
   "id": "a11b2304-2486-4bdf-bf7d-aedd9ffbc840",
   "metadata": {},
   "outputs": [],
   "source": [
    "df_samples_to_run.query(\"BioSample=='SAMN38195838'\")[['BioSample', 'Run']].to_csv(\"pacbio_samples.tsv\", index=False, sep='\\t', header=None)"
   ]
  },
  {
   "cell_type": "code",
   "execution_count": 52,
   "id": "c8010bb2-ceeb-4116-a626-b37831fbfcd0",
   "metadata": {},
   "outputs": [
    {
     "name": "stdout",
     "output_type": "stream",
     "text": [
      "0.9742570154767097\n",
      "0.973686465382094\n"
     ]
    }
   ],
   "source": [
    "df_depth = pd.read_csv(\"/Users/skulkarni/Desktop/Research/LR_data/FASTQ/SAMN38195838/bam/SAMN38195838.depth.tsv.gz\", compression='gzip', sep='\\t', header=None)\n",
    "\n",
    "print(len(df_depth.loc[df_depth[2] >= 10]) / len(df_depth))\n",
    "print(len(df_depth.loc[df_depth[2] >= 20]) / len(df_depth))"
   ]
  },
  {
   "cell_type": "code",
   "execution_count": 54,
   "id": "e4e32881-f048-4a56-8c78-87e549cb3003",
   "metadata": {},
   "outputs": [
    {
     "data": {
      "text/plain": [
       "181.0"
      ]
     },
     "execution_count": 54,
     "metadata": {},
     "output_type": "execute_result"
    }
   ],
   "source": [
    "df_depth[2].median()"
   ]
  },
  {
   "cell_type": "code",
   "execution_count": 57,
   "id": "996e20a0-c733-4e17-81bc-bf13866cd2b5",
   "metadata": {},
   "outputs": [
    {
     "data": {
      "image/png": "[encoded data removed]",
      "text/plain": [
       "<Figure size 640x480 with 1 Axes>"
      ]
     },
     "metadata": {},
     "output_type": "display_data"
    }
   ],
   "source": [
    "sns.histplot(data=df_depth,\n",
    "             x=2\n",
    "            )\n",
    "\n",
    "sns.despine()\n",
    "plt.show()"
   ]
  },
  {
   "cell_type": "code",
   "execution_count": null,
   "id": "591b11e2-3551-4e08-858d-2a3890e07d32",
   "metadata": {},
   "outputs": [],
   "source": []
  },
  {
   "cell_type": "code",
   "execution_count": 31,
   "id": "7d5badb2-4c86-4f4b-b4fe-e53d3765e8b2",
   "metadata": {},
   "outputs": [
    {
     "data": {
      "text/plain": [
       "False"
      ]
     },
     "execution_count": 31,
     "metadata": {},
     "output_type": "execute_result"
    }
   ],
   "source": [
    "os.path.isfile(\"/Users/skulkarni/Desktop/Research/LR_data/FASTQ/SAMN38195838/SRR2678328/SRR26783284.blocklist\")"
   ]
  },
  {
   "cell_type": "code",
   "execution_count": 32,
   "id": "41816c63-0c1a-4dc6-a900-bfe33ffcbb12",
   "metadata": {},
   "outputs": [
    {
     "data": {
      "text/plain": [
       "True"
      ]
     },
     "execution_count": 32,
     "metadata": {},
     "output_type": "execute_result"
    }
   ],
   "source": [
    "os.path.isfile(\"/Users/skulkarni/Desktop/Research/LR_data/FASTQ/SAMN38195838/SRR26783284/SRR26783284.blocklist\")"
   ]
  },
  {
   "cell_type": "code",
   "execution_count": 38,
   "id": "7e243442-b472-4070-be10-c53879c0d054",
   "metadata": {},
   "outputs": [
    {
     "data": {
      "text/plain": [
       "array(['MinION', 'GridION', 'PromethION'], dtype=object)"
      ]
     },
     "execution_count": 38,
     "metadata": {},
     "output_type": "execute_result"
    }
   ],
   "source": [
    "LR_sequencing.query(\"Platform=='OXFORD_NANOPORE'\")[['BioSample', 'Run', 'Model']].Model.unique()"
   ]
  },
  {
   "cell_type": "code",
   "execution_count": 40,
   "id": "86830362-3aca-4ac8-b5c3-35cd91ce06f5",
   "metadata": {},
   "outputs": [
    {
     "data": {
      "text/html": [
       "<div>\n",
       "<style scoped>\n",
       "    .dataframe tbody tr th:only-of-type {\n",
       "        vertical-align: middle;\n",
       "    }\n",
       "\n",
       "    .dataframe tbody tr th {\n",
       "        vertical-align: top;\n",
       "    }\n",
       "\n",
       "    .dataframe thead th {\n",
       "        text-align: right;\n",
       "    }\n",
       "</style>\n",
       "<table border=\"1\" class=\"dataframe\">\n",
       "  <thead>\n",
       "    <tr style=\"text-align: right;\">\n",
       "      <th></th>\n",
       "      <th>BioSample</th>\n",
       "      <th>Run</th>\n",
       "      <th>Model</th>\n",
       "    </tr>\n",
       "  </thead>\n",
       "  <tbody>\n",
       "    <tr>\n",
       "      <th>858</th>\n",
       "      <td>SAMEA112850771</td>\n",
       "      <td>ERR11275425</td>\n",
       "      <td>MinION</td>\n",
       "    </tr>\n",
       "  </tbody>\n",
       "</table>\n",
       "</div>"
      ],
      "text/plain": [
       "          BioSample          Run   Model\n",
       "858  SAMEA112850771  ERR11275425  MinION"
      ]
     },
     "execution_count": 40,
     "metadata": {},
     "output_type": "execute_result"
    }
   ],
   "source": [
    "LR_sequencing.query(\"Platform=='OXFORD_NANOPORE'\")[['BioSample', 'Run', 'Model']].query(\"BioSample=='SAMEA112850771'\")"
   ]
  },
  {
   "cell_type": "code",
   "execution_count": null,
   "id": "78b7f91e-e16e-48c6-9568-ba3007503637",
   "metadata": {},
   "outputs": [],
   "source": [
    "# all will trim barcodes. primers will only trim primers and adapters, not barcodes\n",
    "dorado trim ERR11275425.fastq.gz -k minion --emit-fastq"
   ]
  },
  {
   "cell_type": "code",
   "execution_count": 49,
   "id": "d7b0a0aa-169c-40a0-892e-a423e5731099",
   "metadata": {},
   "outputs": [
    {
     "data": {
      "text/html": [
       "<div>\n",
       "<style scoped>\n",
       "    .dataframe tbody tr th:only-of-type {\n",
       "        vertical-align: middle;\n",
       "    }\n",
       "\n",
       "    .dataframe tbody tr th {\n",
       "        vertical-align: top;\n",
       "    }\n",
       "\n",
       "    .dataframe thead th {\n",
       "        text-align: right;\n",
       "    }\n",
       "</style>\n",
       "<table border=\"1\" class=\"dataframe\">\n",
       "  <thead>\n",
       "    <tr style=\"text-align: right;\">\n",
       "      <th></th>\n",
       "      <th>BioSample</th>\n",
       "      <th>Platform</th>\n",
       "      <th>Run</th>\n",
       "    </tr>\n",
       "  </thead>\n",
       "  <tbody>\n",
       "    <tr>\n",
       "      <th>1214</th>\n",
       "      <td>SAMN38195838</td>\n",
       "      <td>PACBIO_SMRT</td>\n",
       "      <td>SRR26783284</td>\n",
       "    </tr>\n",
       "  </tbody>\n",
       "</table>\n",
       "</div>"
      ],
      "text/plain": [
       "         BioSample     Platform          Run\n",
       "1214  SAMN38195838  PACBIO_SMRT  SRR26783284"
      ]
     },
     "execution_count": 49,
     "metadata": {},
     "output_type": "execute_result"
    }
   ],
   "source": [
    "df_samples_to_run.query(\"BioSample=='SAMN38195838'\")"
   ]
  },
  {
   "cell_type": "code",
   "execution_count": 60,
   "id": "2401190d-04d2-4c54-9fd1-95d3623b1233",
   "metadata": {},
   "outputs": [
    {
     "data": {
      "text/plain": [
       "Model\n",
       "Sequel II       106\n",
       "PacBio RS II     14\n",
       "Sequel            9\n",
       "Name: count, dtype: int64"
      ]
     },
     "execution_count": 60,
     "metadata": {},
     "output_type": "execute_result"
    }
   ],
   "source": [
    "LR_sequencing.query(\"Platform=='PACBIO_SMRT'\").Model.value_counts()"
   ]
  },
  {
   "cell_type": "code",
   "execution_count": 105,
   "id": "4f7dd174-801e-44eb-8387-e65dea4ae4fb",
   "metadata": {},
   "outputs": [
    {
     "data": {
      "text/html": [
       "<div>\n",
       "<style scoped>\n",
       "    .dataframe tbody tr th:only-of-type {\n",
       "        vertical-align: middle;\n",
       "    }\n",
       "\n",
       "    .dataframe tbody tr th {\n",
       "        vertical-align: top;\n",
       "    }\n",
       "\n",
       "    .dataframe thead th {\n",
       "        text-align: right;\n",
       "    }\n",
       "</style>\n",
       "<table border=\"1\" class=\"dataframe\">\n",
       "  <thead>\n",
       "    <tr style=\"text-align: right;\">\n",
       "      <th></th>\n",
       "      <th>Platform</th>\n",
       "      <th>Model</th>\n",
       "    </tr>\n",
       "  </thead>\n",
       "  <tbody>\n",
       "    <tr>\n",
       "      <th>755</th>\n",
       "      <td>PACBIO_SMRT</td>\n",
       "      <td>Sequel II</td>\n",
       "    </tr>\n",
       "  </tbody>\n",
       "</table>\n",
       "</div>"
      ],
      "text/plain": [
       "        Platform      Model\n",
       "755  PACBIO_SMRT  Sequel II"
      ]
     },
     "execution_count": 105,
     "metadata": {},
     "output_type": "execute_result"
    }
   ],
   "source": [
    "LR_sequencing.query(\"BioSample=='SAMN38195838'\")[['Platform', 'Model']]"
   ]
  },
  {
   "cell_type": "code",
   "execution_count": null,
   "id": "baf8c38d-e09a-457f-97aa-1d252cad4064",
   "metadata": {},
   "outputs": [],
   "source": [
    "Sequel II System and PacBio Revio"
   ]
  }
 ],
 "metadata": {
  "kernelspec": {
   "display_name": "Python 3 (ipykernel)",
   "language": "python",
   "name": "python3"
  },
  "language_info": {
   "codemirror_mode": {
    "name": "ipython",
    "version": 3
   },
   "file_extension": ".py",
   "mimetype": "text/x-python",
   "name": "python",
   "nbconvert_exporter": "python",
   "pygments_lexer": "ipython3",
   "version": "3.12.2"
  }
 },
 "nbformat": 4,
 "nbformat_minor": 5
}
